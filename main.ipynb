{
 "cells": [
  {
   "cell_type": "code",
   "execution_count": 1,
   "id": "ff56f9bb",
   "metadata": {},
   "outputs": [],
   "source": [
    "import networkx as nx\n",
    "import pandas as pd\n",
    "import os\n",
    "import re"
   ]
  },
  {
   "cell_type": "code",
   "execution_count": 2,
   "id": "7990e0db",
   "metadata": {},
   "outputs": [],
   "source": [
    "results = []\n",
    "results += [each for each in os.listdir('twitter') if each.endswith('.edges')]"
   ]
  },
  {
   "cell_type": "code",
   "execution_count": 3,
   "id": "248e80fb",
   "metadata": {},
   "outputs": [],
   "source": [
    "G=[]\n",
    "for i in results:\n",
    "    df = pd.read_csv(\"twitter/\"+i, delim_whitespace = True, names = (\"A\", \"B\"))\n",
    "    G.append(nx.from_pandas_edgelist(df, \"A\", \"B\", create_using = nx.DiGraph()))\n"
   ]
  },
  {
   "cell_type": "code",
   "execution_count": 7,
   "id": "03b9a55b",
   "metadata": {},
   "outputs": [],
   "source": [
    "R=[]\n",
    "for i in G[1:]:\n",
    "        # M = intersection of \n",
    "        M = nx.intersection(G[0], i)\n",
    "        if len(M.nodes) != 0:\n",
    "            R.append(i)"
   ]
  },
  {
   "cell_type": "code",
   "execution_count": 9,
   "id": "d38b5e36",
   "metadata": {},
   "outputs": [
    {
     "name": "stdout",
     "output_type": "stream",
     "text": [
      "11324\n"
     ]
    }
   ],
   "source": [
    "U = G[0]\n",
    "for j in R:\n",
    "     U = nx.compose(U,j)\n",
    "\n",
    "print(len(U.nodes))\n"
   ]
  },
  {
   "cell_type": "code",
   "execution_count": 10,
   "id": "c9f3aa73",
   "metadata": {},
   "outputs": [
    {
     "name": "stdout",
     "output_type": "stream",
     "text": [
      "1661.3740221337785\n"
     ]
    }
   ],
   "source": [
    "# number of nodes\n",
    "n = len(U.nodes)\n",
    "\n",
    "# average degree of each node\n",
    "c = sum(val * count for val, count in nx.average_degree_connectivity(U).items())/len(U)\n",
    "print(c)"
   ]
  }
 ],
 "metadata": {
  "kernelspec": {
   "display_name": "Python 3",
   "language": "python",
   "name": "python3"
  },
  "language_info": {
   "codemirror_mode": {
    "name": "ipython",
    "version": 3
   },
   "file_extension": ".py",
   "mimetype": "text/x-python",
   "name": "python",
   "nbconvert_exporter": "python",
   "pygments_lexer": "ipython3",
   "version": "3.11.0"
  }
 },
 "nbformat": 4,
 "nbformat_minor": 5
}
