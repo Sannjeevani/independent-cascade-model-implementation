{
 "cells": [
  {
   "cell_type": "code",
   "execution_count": 1,
   "id": "ff56f9bb",
   "metadata": {},
   "outputs": [],
   "source": [
    "import networkx as nx\n",
    "import pandas as pd\n",
    "import os\n",
    "import re"
   ]
  },
  {
   "cell_type": "code",
   "execution_count": 8,
   "id": "7990e0db",
   "metadata": {},
   "outputs": [],
   "source": [
    "edge_files = []\n",
    "edge_files += [each for each in os.listdir('twitter') if each.endswith('.edges')]\n",
    "# print(ego_centric_subgraphs)"
   ]
  },
  {
   "cell_type": "code",
   "execution_count": 9,
   "id": "248e80fb",
   "metadata": {},
   "outputs": [
    {
     "name": "stdout",
     "output_type": "stream",
     "text": [
      "973\n"
     ]
    }
   ],
   "source": [
    "# creating the ego-centric graphs from each edge file\n",
    "ec_subgraphs = []\n",
    "for i in edge_files:\n",
    "    df = pd.read_csv(\"twitter/\"+i, delim_whitespace = True, names = (\"A\", \"B\"))\n",
    "    ec_subgraphs.append(nx.from_pandas_edgelist(df, \"A\", \"B\", create_using = nx.DiGraph()))\n",
    "print(len(ec_subgraphs))"
   ]
  },
  {
   "cell_type": "code",
   "execution_count": 10,
   "id": "03b9a55b",
   "metadata": {},
   "outputs": [],
   "source": [
    "# keeping track of every graph that shares common edges with ec_subgraphs[0]\n",
    "R = []\n",
    "for g in ec_subgraphs[1:]:\n",
    "        # intersection is a overlapping subgraph, if such an intersection exists \n",
    "        intersection = nx.intersection(ec_subgraphs[0], g)\n",
    "        if len(intersection.nodes) != 0:\n",
    "            R.append(i)"
   ]
  },
  {
   "cell_type": "code",
   "execution_count": 15,
   "id": "d38b5e36",
   "metadata": {},
   "outputs": [
    {
     "name": "stdout",
     "output_type": "stream",
     "text": [
      "11324\n"
     ]
    }
   ],
   "source": [
    "# merging the overlapping subgraphs to generate a combined graph, which would be a subgraph of the larger twitter graph\n",
    "G = ec_subgraphs[0]\n",
    "for g in R:\n",
    "     G = nx.compose(G,g)\n",
    "print(len(G.nodes))"
   ]
  },
  {
   "cell_type": "code",
   "execution_count": 18,
   "id": "c9f3aa73",
   "metadata": {},
   "outputs": [
    {
     "name": "stdout",
     "output_type": "stream",
     "text": [
      "1661.3740221337785\n"
     ]
    }
   ],
   "source": [
    "# number of nodes\n",
    "n = len(G.nodes)\n",
    "\n",
    "# average degree of each node\n",
    "c = sum(val * count for val, count in nx.average_degree_connectivity(G).items())/len(G)\n",
    "print(c)"
   ]
  },
  {
   "cell_type": "code",
   "execution_count": 25,
   "id": "1fa2f3e7",
   "metadata": {},
   "outputs": [
    {
     "name": "stdout",
     "output_type": "stream",
     "text": [
      "Stored 'G' (DiGraph)\n",
      "Stored 'n' (int)\n",
      "Stored 'c' (float)\n"
     ]
    },
    {
     "name": "stderr",
     "output_type": "stream",
     "text": [
      "UsageError: Unknown variable '>'\n"
     ]
    }
   ],
   "source": [
    "#  i need n , c\n",
    "%store G n c > variable_store.txt"
   ]
  }
 ],
 "metadata": {
  "kernelspec": {
   "display_name": "Python 3 (ipykernel)",
   "language": "python",
   "name": "python3"
  },
  "language_info": {
   "codemirror_mode": {
    "name": "ipython",
    "version": 3
   },
   "file_extension": ".py",
   "mimetype": "text/x-python",
   "name": "python",
   "nbconvert_exporter": "python",
   "pygments_lexer": "ipython3",
   "version": "3.9.12"
  }
 },
 "nbformat": 4,
 "nbformat_minor": 5
}
