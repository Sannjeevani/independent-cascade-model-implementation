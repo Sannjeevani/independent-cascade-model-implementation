{
  "nbformat": 4,
  "nbformat_minor": 0,
  "metadata": {
    "colab": {
      "provenance": [],
      "toc_visible": true,
      "authorship_tag": "ABX9TyPKjJrtU8NTPjImTtxJOfby",
      "include_colab_link": true
    },
    "kernelspec": {
      "name": "python3",
      "display_name": "Python 3"
    },
    "language_info": {
      "name": "python"
    }
  },
  "cells": [
    {
      "cell_type": "markdown",
      "metadata": {
        "id": "view-in-github",
        "colab_type": "text"
      },
      "source": [
        "<a href=\"https://colab.research.google.com/github/tatwamasidotexe/independent-cascade-model-implementation/blob/main/ICM.ipynb\" target=\"_parent\"><img src=\"https://colab.research.google.com/assets/colab-badge.svg\" alt=\"Open In Colab\"/></a>"
      ]
    },
    {
      "cell_type": "code",
      "execution_count": 2,
      "metadata": {
        "id": "jXIDmgl4p1fY"
      },
      "outputs": [],
      "source": [
        "import random\n",
        "inf = float('inf')\n",
        "# define delAllElements\n",
        "# define neighbour\n",
        "# define activate\n",
        "# define union"
      ]
    },
    {
      "cell_type": "code",
      "source": [
        "def icm(G, a, p) :\n",
        "  i = 0\n",
        "  while len(a[i]) :\n",
        "    i+=1\n",
        "    a[i].delAllElements()\n",
        "    for v in a[i-1] :\n",
        "      for w in neighbor[v] :\n",
        "        r = random.uniform(0, 1) #generates a floating point in [0, 1]\n",
        "        if r < p :\n",
        "          activate(w)\n",
        "          a[i] = a[i].append(w)\n",
        "  a[inf] = union(a, 0, i)\n",
        "  return a[inf]\n"
      ],
      "metadata": {
        "id": "rCJgiP9BvTuN"
      },
      "execution_count": null,
      "outputs": []
    }
  ]
}